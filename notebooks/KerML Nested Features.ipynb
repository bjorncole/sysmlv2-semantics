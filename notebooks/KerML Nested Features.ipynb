{
 "cells": [
  {
   "cell_type": "code",
   "execution_count": 1,
   "metadata": {},
   "outputs": [],
   "source": [
    "import copy\n",
    "import random"
   ]
  },
  {
   "cell_type": "markdown",
   "metadata": {},
   "source": [
    "# Exploring Nested Features in KerML\n",
    "\n",
    "This is a notebook where I am fooling around with possibilities for using the sequence semantics of SysML v2 to explore different kinds of relationships between things in a universe. The \"user model\" of SysML v2 (M1, where libraries live) is the source of constraints and rules for combining the things, denoted by individual characters, into sequences.\n",
    "\n",
    "One of the reasons I used characters as symbols for these individual things is it also helps to look at the sequences and individual items themselves, which is what happens with strings (sequences of characters treated as an object).\n",
    "\n",
    "If Greek characters, capital letters, and numbers are added, this allows for a universe of atoms with about 80 members. This probably plenty to work with giving how quickly combinatorial spaces expand."
   ]
  },
  {
   "cell_type": "markdown",
   "metadata": {},
   "source": [
    "# Section 1 - Exploring the size of spaces\n",
    "\n",
    "This is a section to just play around with the combinatorics of arranging the items of a universe into sequences to see how quickly things get out of hand."
   ]
  },
  {
   "cell_type": "markdown",
   "metadata": {},
   "source": [
    "### Section 1.1 - Universe Setup\n",
    "\n",
    "Define the universe of things. The key to keeping models under control in terms of size is to try and keep this universe small. Population of the universe is thus probably better as a bottoms-up effort than a top-down one."
   ]
  },
  {
   "cell_type": "code",
   "execution_count": 2,
   "metadata": {},
   "outputs": [],
   "source": [
    "number_things = 80"
   ]
  },
  {
   "cell_type": "markdown",
   "metadata": {},
   "source": [
    "Maxium depth of feature to consider."
   ]
  },
  {
   "cell_type": "code",
   "execution_count": 3,
   "metadata": {},
   "outputs": [],
   "source": [
    "feature_depth = 5"
   ]
  },
  {
   "cell_type": "markdown",
   "metadata": {},
   "source": [
    "To make it easier to deal with some of the conceptual issues of the labeling of sequences, it may be helpful to assign numbers to sequences as indexed."
   ]
  },
  {
   "cell_type": "markdown",
   "metadata": {},
   "source": [
    "### Section 1.2 - Completely default types\n",
    "\n",
    "The most basic calculations are for unconstrained results."
   ]
  },
  {
   "cell_type": "code",
   "execution_count": 4,
   "metadata": {},
   "outputs": [
    {
     "name": "stdout",
     "output_type": "stream",
     "text": [
      "3,318,278,480\n"
     ]
    }
   ],
   "source": [
    "anything_possibilities = 0\n",
    "for i in range(1, feature_depth + 1):\n",
    "    anything_possibilities = anything_possibilities + number_things ** i\n",
    "    \n",
    "print(\"{:,d}\".format(anything_possibilities))"
   ]
  },
  {
   "cell_type": "markdown",
   "metadata": {},
   "source": [
    "## Section 1.3 - Exploring Library Elements\n",
    "\n",
    "After the initial play with the sizes of sequences, this section tries to look at how the constraints on sequences brings the size of the space down."
   ]
  },
  {
   "cell_type": "markdown",
   "metadata": {},
   "source": [
    "#### Section 1.3.1 - Classifiers and Minimal Interpretations\n",
    "\n",
    "The minimum interpretations of classifiers are of length 1 (any sequence in a Classifier has its 1-tail inside also, which means only the 1-tails are not tails of other sequences)."
   ]
  },
  {
   "cell_type": "code",
   "execution_count": 5,
   "metadata": {},
   "outputs": [
    {
     "name": "stdout",
     "output_type": "stream",
     "text": [
      "3,318,278,420\n"
     ]
    }
   ],
   "source": [
    "number_things_in_class = 20\n",
    "assert number_things_in_class < number_things\n",
    "\n",
    "classifier_possibilities = number_things_in_class\n",
    "\n",
    "for i in range(2, feature_depth + 1):\n",
    "    classifier_possibilities = classifier_possibilities + number_things ** i\n",
    "    \n",
    "print(\"{:,d}\".format(classifier_possibilities))"
   ]
  },
  {
   "cell_type": "markdown",
   "metadata": {},
   "source": [
    "#### Section 1.3.2 - Basics of Nesting Features\n",
    "\n",
    "One key consideration is that \"Anything\" has no minimum interpretation so it cannot be used in defining either side of a FeaturePair. \"Things\" can be used however. Since things is all possible sequences in of things in the universe, its minimal interpretation is a sequence of length 2."
   ]
  },
  {
   "cell_type": "code",
   "execution_count": 6,
   "metadata": {},
   "outputs": [
    {
     "name": "stdout",
     "output_type": "stream",
     "text": [
      "6,400\n"
     ]
    }
   ],
   "source": [
    "things_size = number_things ** 2\n",
    "print(\"{:,d}\".format(things_size))"
   ]
  },
  {
   "cell_type": "markdown",
   "metadata": {},
   "source": [
    "##### Section 1.3.2.1 - Defaults for nesting features in pure KerML\n",
    "\n",
    "The rules above lead to a \"default\" nested feature (one feature with another as its featuringType, and neither with a specific Type applied) of sequences of lengths no less than 4, all concatenations of sequences from the minimal interpretation of \"things.\"\n",
    "\n",
    "The base rules for feature sequences then allow for the insertion of any atom from the universe between numbers of the minimal 2-sequences from the minimal interpretation of things."
   ]
  },
  {
   "cell_type": "code",
   "execution_count": 7,
   "metadata": {},
   "outputs": [
    {
     "name": "stdout",
     "output_type": "stream",
     "text": [
      "512,000\n"
     ]
    }
   ],
   "source": [
    "number_of_5_length_sequences = things_size * number_things\n",
    "print(\"{:,d}\".format(number_of_5_length_sequences))"
   ]
  },
  {
   "cell_type": "markdown",
   "metadata": {},
   "source": [
    "##### Section 1.3.2.2 - Defaults for nesting features in SysML\n",
    "\n",
    "In SysML, all part properties must be typed by Part Definition or a specialization. Since Part Definitions are Classifiers, their minimal interpretations are of length one. So the nesting will result in sequences of length no less than 2, simply combinations of all 1-sequences of Part Definition."
   ]
  },
  {
   "cell_type": "markdown",
   "metadata": {},
   "source": [
    "## Section 2 - Sets from the Library\n",
    "\n",
    "Start capturing library sets and specialize appropriately."
   ]
  },
  {
   "cell_type": "markdown",
   "metadata": {},
   "source": [
    "### Section 2.1 - Occurrences\n",
    "\n",
    "Occurrences specialize Classifier, and obey the same rules. Minimal interpretations are of length 1."
   ]
  },
  {
   "cell_type": "markdown",
   "metadata": {},
   "source": [
    "### Section 2.2 - Links\n",
    "\n",
    "Links specialize objects which specialize occurrences. The links that are often the most useful are the binary links as they do a lot of heavy lifting in libraries to link entities.\n",
    "Generic links have attributes that are two or more participants, which can be pulled from the Anything set of sequences."
   ]
  },
  {
   "cell_type": "markdown",
   "metadata": {},
   "source": [
    "#### Section 2.2.2 - BinaryLinks\n",
    "\n",
    "The binary links are simpler to deal with in that there are exactly two participants. Each binary link effectively pairs sequences."
   ]
  },
  {
   "cell_type": "markdown",
   "metadata": {},
   "source": [
    "#### Section 2.2.2.1 - Nesting and ends\n",
    "\n",
    "The sequences within the interpretations of different features of the Association are useful for puzzling out end semantics.\n",
    "\n",
    "Here we generate the list of possibilities. Only 5 atoms are used to keep the numbers small enough for exploration."
   ]
  },
  {
   "cell_type": "code",
   "execution_count": 8,
   "metadata": {},
   "outputs": [],
   "source": [
    "nesting_universe_instances = ['a', 'b', 'c', 'd', 'e']"
   ]
  },
  {
   "cell_type": "markdown",
   "metadata": {},
   "source": [
    "Construct the full set of sequences possible with these atoms to be the Anything set."
   ]
  },
  {
   "cell_type": "code",
   "execution_count": 9,
   "metadata": {},
   "outputs": [
    {
     "data": {
      "text/plain": [
       "625"
      ]
     },
     "execution_count": 9,
     "metadata": {},
     "output_type": "execute_result"
    }
   ],
   "source": [
    "nesting_universe_anything = [[]]\n",
    "for i in range(1, 5):\n",
    "    if i > 1:\n",
    "        old_template = copy.deepcopy(nesting_universe_anything[i - 2])\n",
    "        nesting_universe_anything.append([])\n",
    "    for j, instance in enumerate(nesting_universe_instances):\n",
    "        if i == 1:\n",
    "            nesting_universe_anything[0].append(instance)\n",
    "        else:\n",
    "            for el in old_template:\n",
    "                nesting_universe_anything[i - 1].append(instance + el)\n",
    "            \n",
    "len(nesting_universe_anything[3])"
   ]
  },
  {
   "cell_type": "markdown",
   "metadata": {},
   "source": [
    "Select all sequences that go with the notional binary Association classifier (ending in 'a'):"
   ]
  },
  {
   "cell_type": "code",
   "execution_count": 10,
   "metadata": {},
   "outputs": [
    {
     "data": {
      "text/plain": [
       "156"
      ]
     },
     "execution_count": 10,
     "metadata": {},
     "output_type": "execute_result"
    }
   ],
   "source": [
    "assoc_seqs = []\n",
    "for level in nesting_universe_anything:\n",
    "    for seq in level:\n",
    "        if seq[-1] == 'a':\n",
    "            assoc_seqs.append(seq)\n",
    "            \n",
    "len(assoc_seqs)"
   ]
  },
  {
   "cell_type": "markdown",
   "metadata": {},
   "source": [
    "Let the participant feature 1 have a Type that is a Classifier with minimal interpretation of {\\[b\\], \\[c\\]} and participant feature 2 have a Type that is a Classifier with minimal interpretation of {\\[d\\], \\[e\\]}."
   ]
  },
  {
   "cell_type": "code",
   "execution_count": 11,
   "metadata": {},
   "outputs": [
    {
     "data": {
      "text/plain": [
       "312"
      ]
     },
     "execution_count": 11,
     "metadata": {},
     "output_type": "execute_result"
    }
   ],
   "source": [
    "BC_seqs = []\n",
    "for level in nesting_universe_anything:\n",
    "    for seq in level:\n",
    "        if seq[-1] == 'b' or seq[-1] == 'c':\n",
    "            BC_seqs.append(seq)\n",
    "            \n",
    "len(BC_seqs)"
   ]
  },
  {
   "cell_type": "code",
   "execution_count": 12,
   "metadata": {},
   "outputs": [
    {
     "data": {
      "text/plain": [
       "312"
      ]
     },
     "execution_count": 12,
     "metadata": {},
     "output_type": "execute_result"
    }
   ],
   "source": [
    "DE_seqs = []\n",
    "for level in nesting_universe_anything:\n",
    "    for seq in level:\n",
    "        if seq[-1] == 'd' or seq[-1] == 'e':\n",
    "            DE_seqs.append(seq)\n",
    "            \n",
    "len(DE_seqs)"
   ]
  },
  {
   "cell_type": "markdown",
   "metadata": {},
   "source": [
    "Select all feature-length sequences that aren't classified by our Association but have it as a featuring type, meaning that 'a' is the left-most item in the sequence."
   ]
  },
  {
   "cell_type": "code",
   "execution_count": 13,
   "metadata": {},
   "outputs": [
    {
     "data": {
      "text/plain": [
       "62"
      ]
     },
     "execution_count": 13,
     "metadata": {},
     "output_type": "execute_result"
    }
   ],
   "source": [
    "part1_seqs = []\n",
    "for level in nesting_universe_anything:\n",
    "    for seq in level:\n",
    "        if len(seq) > 1 and (seq[-1] == 'b' or seq[-1] == 'c') and seq[0] == 'a':\n",
    "            part1_seqs.append(seq)\n",
    "            \n",
    "len(part1_seqs)"
   ]
  },
  {
   "cell_type": "code",
   "execution_count": 14,
   "metadata": {},
   "outputs": [
    {
     "data": {
      "text/plain": [
       "62"
      ]
     },
     "execution_count": 14,
     "metadata": {},
     "output_type": "execute_result"
    }
   ],
   "source": [
    "part2_seqs = []\n",
    "for level in nesting_universe_anything:\n",
    "    for seq in level:\n",
    "        if len(seq) > 1 and (seq[-1] == 'd' or seq[-1] == 'e') and seq[0] == 'a':\n",
    "            part2_seqs.append(seq)\n",
    "            \n",
    "len(part2_seqs)"
   ]
  },
  {
   "cell_type": "code",
   "execution_count": 15,
   "metadata": {},
   "outputs": [],
   "source": [
    "part1_min_seqs = []\n",
    "for seq in part1_seqs:\n",
    "    if (len(seq) == 2):\n",
    "        part1_min_seqs.append(seq)"
   ]
  },
  {
   "cell_type": "code",
   "execution_count": 16,
   "metadata": {},
   "outputs": [],
   "source": [
    "part2_min_seqs = []\n",
    "for seq in part2_seqs:\n",
    "    if (len(seq) == 2):\n",
    "        part2_min_seqs.append(seq)"
   ]
  },
  {
   "cell_type": "code",
   "execution_count": 17,
   "metadata": {},
   "outputs": [
    {
     "data": {
      "text/plain": [
       "['ad', 'ae']"
      ]
     },
     "execution_count": 17,
     "metadata": {},
     "output_type": "execute_result"
    }
   ],
   "source": [
    "part2_min_seqs"
   ]
  },
  {
   "cell_type": "markdown",
   "metadata": {},
   "source": [
    "#### Section 2.2.2.2 - Continued example for ends\n",
    "\n",
    "The leap from the participant feature (part1 and part2) sequences and the end sequences is to further sub-select the sequences that fall under *both* the link and the other end item.\n",
    "\n",
    "The above model has effectively been\n",
    "\n",
    "Association A\n",
    "   participant part1 : BC (maps to end de : DE under BC)\n",
    "   participant part2 : DE (maps to end bc : BC under DE)\n",
    "\n",
    "The end1 sequences select out from part1 those sequences with d or e above them."
   ]
  },
  {
   "cell_type": "code",
   "execution_count": 41,
   "metadata": {},
   "outputs": [
    {
     "data": {
      "text/plain": [
       "['adb',\n",
       " 'adc',\n",
       " 'aeb',\n",
       " 'aec',\n",
       " 'aadb',\n",
       " 'aadc',\n",
       " 'aaeb',\n",
       " 'aaec',\n",
       " 'abdb',\n",
       " 'abdc',\n",
       " 'abeb',\n",
       " 'abec',\n",
       " 'acdb',\n",
       " 'acdc',\n",
       " 'aceb',\n",
       " 'acec',\n",
       " 'adab',\n",
       " 'adac',\n",
       " 'adbb',\n",
       " 'adbc',\n",
       " 'adcb',\n",
       " 'adcc',\n",
       " 'addb',\n",
       " 'addc',\n",
       " 'adeb',\n",
       " 'adec',\n",
       " 'aeab',\n",
       " 'aeac',\n",
       " 'aebb',\n",
       " 'aebc',\n",
       " 'aecb',\n",
       " 'aecc',\n",
       " 'aedb',\n",
       " 'aedc',\n",
       " 'aeeb',\n",
       " 'aeec']"
      ]
     },
     "execution_count": 41,
     "metadata": {},
     "output_type": "execute_result"
    }
   ],
   "source": [
    "end1_seqs = []\n",
    "\n",
    "for part1 in part1_seqs:\n",
    "    if len(part1) > 2:\n",
    "        if part1[1] == 'd' or part1[1] == 'e' or part1[2] == 'd' or part1[2] == 'e':\n",
    "            end1_seqs.append(part1)\n",
    "            \n",
    "end1_seqs"
   ]
  },
  {
   "cell_type": "markdown",
   "metadata": {},
   "source": [
    "#### Section 4.2.3 Links\n",
    "\n",
    "For general links, there can be more than two participants. The rules for mapping from the instances of the links and the participants to instances matched to features of end types is less clear. Here we can explore that a bit with an example inspired by *The Last Dance*, the NBA finals between the Seattle Supersonics and Chicago Bulls. Then, for fun, a follow-on game where a key matchup between Gary \"The Glove\" Payton and Michael Jordan is repeated when Jordan is on another team in another year."
   ]
  },
  {
   "cell_type": "markdown",
   "metadata": {},
   "source": [
    "To use the team, year, player example, here are some abbreviations:\n",
    "b - Bulls\n",
    "s - Sonics\n",
    "p - Gary Payton\n",
    "j - Michael Jordan\n",
    "6 - 1996\n",
    "2 - 2002\n",
    "w - Wizards\n",
    "a - Association"
   ]
  },
  {
   "cell_type": "code",
   "execution_count": 23,
   "metadata": {},
   "outputs": [],
   "source": [
    "link_universe_instances = ['a', 'b', 's', 'p', 'j', '6', '2', 'w']"
   ]
  },
  {
   "cell_type": "code",
   "execution_count": 24,
   "metadata": {},
   "outputs": [],
   "source": [
    "link_universe_anything = [[]]\n",
    "link_universe_flat = []\n",
    "for i in range(1, 5):\n",
    "    if i > 1:\n",
    "        old_template = copy.deepcopy(link_universe_anything[i - 2])\n",
    "        link_universe_anything.append([])\n",
    "    for j, instance in enumerate(link_universe_instances):\n",
    "        if i == 1:\n",
    "            link_universe_anything[0].append(instance)\n",
    "            link_universe_flat.append(instance)\n",
    "        else:\n",
    "            for el in old_template:\n",
    "                link_universe_anything[i - 1].append(instance + el)\n",
    "                link_universe_flat.append(instance + el)"
   ]
  },
  {
   "cell_type": "code",
   "execution_count": 25,
   "metadata": {},
   "outputs": [],
   "source": [
    "def is_team(instance):\n",
    "    if instance[-1] == 'b' or instance[-1] == 's' or instance[-1] == 'w':\n",
    "        return True\n",
    "    return False"
   ]
  },
  {
   "cell_type": "code",
   "execution_count": 26,
   "metadata": {},
   "outputs": [],
   "source": [
    "def is_player(instance):\n",
    "    if instance[-1] == 'p' or instance[-1] == 'j':\n",
    "        return True\n",
    "    return False"
   ]
  },
  {
   "cell_type": "code",
   "execution_count": 27,
   "metadata": {},
   "outputs": [],
   "source": [
    "def is_year(instance):\n",
    "    if instance[-1] == '2' or instance[-1] == '6':\n",
    "        return True\n",
    "    return False"
   ]
  },
  {
   "cell_type": "code",
   "execution_count": 28,
   "metadata": {},
   "outputs": [],
   "source": [
    "def is_link(instance):\n",
    "    if instance[-1] == 'a':\n",
    "        return True\n",
    "    return False"
   ]
  },
  {
   "cell_type": "code",
   "execution_count": 29,
   "metadata": {},
   "outputs": [],
   "source": [
    "teams = [instance for instance in link_universe_flat if is_team(instance)]\n",
    "players = [instance for instance in link_universe_flat if is_player(instance)]\n",
    "years = [instance for instance in link_universe_flat if is_year(instance)]\n",
    "links = [instance for instance in link_universe_flat if is_link(instance)]"
   ]
  },
  {
   "cell_type": "markdown",
   "metadata": {},
   "source": [
    "The nesting for the features above is interesting in how we can interpret it (depending on features provided in the larger user model). For example, 'b6j' could represent Michael Jordan as he was a player in 1996 for the Bulls.\n",
    "We should note that there a number of sequences that may not make sense like 'bjj' (Jordan referencing himself while on the Bulls?) This might point to some useful default semantics for SysML part usage and the like.\n",
    "Note that we have no restrictions yet, so there are several combinations where players appear to be linked to the wrong team. But we have said what the legal combinations are ... this may be oppositions rather than playing on the team."
   ]
  },
  {
   "cell_type": "code",
   "execution_count": 30,
   "metadata": {},
   "outputs": [
    {
     "data": {
      "text/plain": [
       "['bpp', 'bpj', 'bjp', 'bjj', 'b6p', 'b6j', 'b2p', 'b2j', 'bwp', 'bwj']"
      ]
     },
     "execution_count": 30,
     "metadata": {},
     "output_type": "execute_result"
    }
   ],
   "source": [
    "players[40:50]"
   ]
  },
  {
   "cell_type": "markdown",
   "metadata": {},
   "source": [
    "As before, the participants of our association restrict the universe of sequences to those that have the association minimum interpretation ('a') as the head and a minimal interpretation ('p', 'j' for players) as the tail."
   ]
  },
  {
   "cell_type": "code",
   "execution_count": 31,
   "metadata": {},
   "outputs": [],
   "source": [
    "linked_players = [linked_player for linked_player in players if linked_player[0] == 'a']\n",
    "linked_teams = [linked_team for linked_team in teams if linked_team[0] == 'a']\n",
    "linked_years = [linked_year for linked_year in years if linked_year[0] == 'a']"
   ]
  },
  {
   "cell_type": "code",
   "execution_count": 32,
   "metadata": {},
   "outputs": [
    {
     "data": {
      "text/plain": [
       "['aj6', 'aj2', 'a66', 'a62', 'a26', 'a22', 'aw6', 'aw2', 'aaa6', 'aaa2']"
      ]
     },
     "execution_count": 32,
     "metadata": {},
     "output_type": "execute_result"
    }
   ],
   "source": [
    "linked_years[10:20]"
   ]
  },
  {
   "cell_type": "markdown",
   "metadata": {},
   "source": [
    "If we look at any one of these ends, they basically have a way to navigate to things of a given classifier either directly or through the other dimension. We can start by making a series of random links."
   ]
  },
  {
   "cell_type": "code",
   "execution_count": 33,
   "metadata": {},
   "outputs": [],
   "source": [
    "trilinks = []\n",
    "for i in range(0, 100):\n",
    "    rand_trilink = [links[random.randint(0, len(links) - 1)],\n",
    "                    linked_players[random.randint(0, len(linked_players) - 1)],\n",
    "                    linked_teams[random.randint(0, len(linked_teams) - 1)],\n",
    "                    linked_years[random.randint(0, len(linked_years) - 1)]]\n",
    "    trilinks.append(rand_trilink)"
   ]
  },
  {
   "cell_type": "code",
   "execution_count": 34,
   "metadata": {},
   "outputs": [
    {
     "data": {
      "text/plain": [
       "[['pjja', 'aapj', 'aaas', 'as66'],\n",
       " ['bawa', 'aawj', 'a2ss', 'ap26'],\n",
       " ['b2pa', 'a2bj', 'ajsw', 'aaw6'],\n",
       " ['2jba', 'ajpp', 'a26b', 'aw6'],\n",
       " ['awwa', 'aswj', 'awbw', 'a666'],\n",
       " ['p2pa', 'a26p', 'awb', 'a6p6'],\n",
       " ['pbpa', 'aajj', 'a2ss', 'ap6'],\n",
       " ['wpwa', 'aasp', 'aw2w', 'asw6'],\n",
       " ['ppja', 'asbp', 'asps', 'asp6'],\n",
       " ['swaa', 'apaj', 'as2s', 'abs2'],\n",
       " ['26a', 'aapj', 'asbb', 'aba2'],\n",
       " ['jba', 'ajbp', 'a2js', 'a6a6'],\n",
       " ['62sa', 'ajp', 'abws', 'aaa6'],\n",
       " ['jp6a', 'abpp', 'aabw', 'aba6'],\n",
       " ['w2aa', 'aw2p', 'ajwb', 'a2p2'],\n",
       " ['pbpa', 'aspj', 'aspb', 'aa2'],\n",
       " ['26pa', 'awp', 'asaw', 'a6s6'],\n",
       " ['266a', 'aajp', 'ap6w', 'aja2'],\n",
       " ['ppaa', 'aap', 'aabw', 'ap26'],\n",
       " ['sbwa', 'abwj', 'apjb', 'aba2'],\n",
       " ['jssa', 'as6p', 'as6w', 'ab66'],\n",
       " ['japa', 'aaj', 'asbs', 'awa2'],\n",
       " ['pja', 'a6wp', 'asb', 'a6a2'],\n",
       " ['wpaa', 'asbj', 'a6b', 'asa2'],\n",
       " ['2waa', 'aa2p', 'ajjs', 'abj2'],\n",
       " ['6wpa', 'a6bp', 'aw6w', 'apw6'],\n",
       " ['aasa', 'a6jj', 'a2bb', 'awa2'],\n",
       " ['jbba', 'ajjp', 'aa2w', 'aj2'],\n",
       " ['s2wa', 'a6ap', 'asjw', 'aaa2'],\n",
       " ['2a6a', 'aspj', 'ajjb', 'apa2'],\n",
       " ['b2pa', 'apjj', 'aj2s', 'as66'],\n",
       " ['s2wa', 'asjj', 'a6bs', 'aw6'],\n",
       " ['apwa', 'awpp', 'a6jw', 'a626'],\n",
       " ['appa', 'awp', 'apsb', 'awp6'],\n",
       " ['bbwa', 'ajwj', 'asjb', 'a2s6'],\n",
       " ['p22a', 'awbj', 'a62b', 'abb2'],\n",
       " ['papa', 'ajbj', 'abpb', 'apj6'],\n",
       " ['aawa', 'abbp', 'a2bb', 'ap6'],\n",
       " ['wppa', 'awsp', 'a6jb', 'a666'],\n",
       " ['baaa', 'aj6p', 'a2bw', 'aa2'],\n",
       " ['sjaa', 'awsj', 'as2s', 'a6a2'],\n",
       " ['jbja', 'apwp', 'a2bs', 'a6j2'],\n",
       " ['sjpa', 'a2pp', 'a66b', 'a6p2'],\n",
       " ['ssba', 'aaj', 'asab', 'a22'],\n",
       " ['wpwa', 'a26j', 'a6ps', 'aap6'],\n",
       " ['sj2a', 'a2j', 'a2b', 'aaa6'],\n",
       " ['6waa', 'a2jp', 'asjs', 'aas6'],\n",
       " ['ppja', 'ap', 'a6w', 'ab6'],\n",
       " ['spaa', 'a2sj', 'ap2s', 'aa6'],\n",
       " ['jbja', 'asaj', 'a6js', 'ab26'],\n",
       " ['626a', 'a6jj', 'abbs', 'aaa2'],\n",
       " ['ps2a', 'ab6p', 'abpb', 'a2p2'],\n",
       " ['bsaa', 'a2p', 'aww', 'ap22'],\n",
       " ['b2ja', 'aaap', 'ajs', 'aj26'],\n",
       " ['s2ja', 'abpj', 'a2b', 'ap22'],\n",
       " ['p22a', 'ajp', 'aa2b', 'ajb2'],\n",
       " ['pswa', 'a6bp', 'aa6b', 'as22'],\n",
       " ['sw6a', 'aa2p', 'apw', 'aa22'],\n",
       " ['bpaa', 'aa2j', 'a62b', 'abs2'],\n",
       " ['p2aa', 'a6sj', 'a2ps', 'a622'],\n",
       " ['bbsa', 'a26p', 'a2sw', 'aa6'],\n",
       " ['6pwa', 'aw2j', 'ajw', 'aba2'],\n",
       " ['66pa', 'a22j', 'awbb', 'ap26'],\n",
       " ['6p6a', 'assj', 'aaww', 'a6j6'],\n",
       " ['2w6a', 'appp', 'appb', 'ab66'],\n",
       " ['ajsa', 'ap2p', 'awjb', 'abb2'],\n",
       " ['wpja', 'appp', 'a6ws', 'a2p6'],\n",
       " ['2w6a', 'abap', 'as2b', 'ajj2'],\n",
       " ['ppsa', 'a2ap', 'ajsb', 'asj6'],\n",
       " ['pa6a', 'asbj', 'ajpw', 'aaa6'],\n",
       " ['ppa', 'a2aj', 'aabw', 'a2s2'],\n",
       " ['swaa', 'abbp', 'aa2w', 'aa22'],\n",
       " ['ppwa', 'a6pj', 'a6bw', 'a6j2'],\n",
       " ['p6a', 'a66j', 'as2b', 'aj66'],\n",
       " ['pjja', 'awpp', 'abpw', 'as62'],\n",
       " ['j2ja', 'ajj', 'as2b', 'ap26'],\n",
       " ['ss2a', 'aa6j', 'awss', 'asw6'],\n",
       " ['basa', 'aj6j', 'as2w', 'aws6'],\n",
       " ['ajba', 'ap2p', 'ap6w', 'as6'],\n",
       " ['asja', 'a6wj', 'a2s', 'a6a6'],\n",
       " ['jaja', 'apsp', 'a2sb', 'ap2'],\n",
       " ['wjwa', 'ap6j', 'appb', 'asa2'],\n",
       " ['wswa', 'aasj', 'a62b', 'abp2'],\n",
       " ['sjwa', 'ap6p', 'abab', 'aab2'],\n",
       " ['wwba', 'asaj', 'aasb', 'ap22'],\n",
       " ['sjba', 'aap', 'a22w', 'a62'],\n",
       " ['pjaa', 'ajbj', 'a2ww', 'a266'],\n",
       " ['wjwa', 'ajbj', 'asbb', 'asb6'],\n",
       " ['paa', 'aw6p', 'awab', 'a626'],\n",
       " ['6wsa', 'abap', 'abps', 'aps6'],\n",
       " ['bwpa', 'a6ap', 'aaw', 'aaw2'],\n",
       " ['2aa', 'assp', 'a2jw', 'aaa6'],\n",
       " ['2ssa', 'aabj', 'a2w', 'a2b2'],\n",
       " ['pjwa', 'ap2j', 'a6ps', 'ap26'],\n",
       " ['sj2a', 'asbp', 'ab2w', 'awj2'],\n",
       " ['ppja', 'aw6p', 'aajw', 'a2s2'],\n",
       " ['b6ja', 'aw6j', 'abwb', 'awb6'],\n",
       " ['w2pa', 'awbp', 'ajww', 'aw62'],\n",
       " ['paba', 'aajj', 'a2bw', 'a2j6'],\n",
       " ['swa', 'ajpj', 'awjs', 'ap22']]"
      ]
     },
     "execution_count": 34,
     "metadata": {},
     "output_type": "execute_result"
    }
   ],
   "source": [
    "trilinks"
   ]
  },
  {
   "cell_type": "markdown",
   "metadata": {},
   "source": [
    "Next we consider how we made specify one of the ends for this link. It would make sense to have the Teams classifier be able to a Feature that calls out all players associated with the team, and perhaps to further filter this by year."
   ]
  },
  {
   "cell_type": "code",
   "execution_count": 35,
   "metadata": {},
   "outputs": [
    {
     "data": {
      "text/plain": [
       "[['sjba', 'aap', 'a22w', 'a62'],\n",
       " ['2jba', 'ajpp', 'a26b', 'aw6'],\n",
       " ['sj2a', 'a2j', 'a2b', 'aaa6'],\n",
       " ['s2ja', 'abpj', 'a2b', 'ap22'],\n",
       " ['aasa', 'a6jj', 'a2bb', 'awa2'],\n",
       " ['aawa', 'abbp', 'a2bb', 'ap6'],\n",
       " ['jbja', 'apwp', 'a2bs', 'a6j2'],\n",
       " ['baaa', 'aj6p', 'a2bw', 'aa2'],\n",
       " ['paba', 'aajj', 'a2bw', 'a2j6'],\n",
       " ['jba', 'ajbp', 'a2js', 'a6a6'],\n",
       " ['2aa', 'assp', 'a2jw', 'aaa6'],\n",
       " ['p2aa', 'a6sj', 'a2ps', 'a622'],\n",
       " ['asja', 'a6wj', 'a2s', 'a6a6'],\n",
       " ['jaja', 'apsp', 'a2sb', 'ap2'],\n",
       " ['bawa', 'aawj', 'a2ss', 'ap26'],\n",
       " ['pbpa', 'aajj', 'a2ss', 'ap6'],\n",
       " ['bbsa', 'a26p', 'a2sw', 'aa6'],\n",
       " ['2ssa', 'aabj', 'a2w', 'a2b2'],\n",
       " ['pjaa', 'ajbj', 'a2ww', 'a266'],\n",
       " ['p22a', 'awbj', 'a62b', 'abb2'],\n",
       " ['bpaa', 'aa2j', 'a62b', 'abs2'],\n",
       " ['wswa', 'aasj', 'a62b', 'abp2'],\n",
       " ['sjpa', 'a2pp', 'a66b', 'a6p2'],\n",
       " ['wpaa', 'asbj', 'a6b', 'asa2'],\n",
       " ['s2wa', 'asjj', 'a6bs', 'aw6'],\n",
       " ['ppwa', 'a6pj', 'a6bw', 'a6j2'],\n",
       " ['wppa', 'awsp', 'a6jb', 'a666'],\n",
       " ['jbja', 'asaj', 'a6js', 'ab26'],\n",
       " ['apwa', 'awpp', 'a6jw', 'a626'],\n",
       " ['wpwa', 'a26j', 'a6ps', 'aap6'],\n",
       " ['pjwa', 'ap2j', 'a6ps', 'ap26'],\n",
       " ['ppja', 'ap', 'a6w', 'ab6'],\n",
       " ['wpja', 'appp', 'a6ws', 'a2p6'],\n",
       " ['p22a', 'ajp', 'aa2b', 'ajb2'],\n",
       " ['jbba', 'ajjp', 'aa2w', 'aj2'],\n",
       " ['swaa', 'abbp', 'aa2w', 'aa22'],\n",
       " ['pswa', 'a6bp', 'aa6b', 'as22'],\n",
       " ['pjja', 'aapj', 'aaas', 'as66'],\n",
       " ['jp6a', 'abpp', 'aabw', 'aba6'],\n",
       " ['ppaa', 'aap', 'aabw', 'ap26'],\n",
       " ['ppa', 'a2aj', 'aabw', 'a2s2'],\n",
       " ['ppja', 'aw6p', 'aajw', 'a2s2'],\n",
       " ['wwba', 'asaj', 'aasb', 'ap22'],\n",
       " ['bwpa', 'a6ap', 'aaw', 'aaw2'],\n",
       " ['6p6a', 'assj', 'aaww', 'a6j6'],\n",
       " ['sj2a', 'asbp', 'ab2w', 'awj2'],\n",
       " ['sjwa', 'ap6p', 'abab', 'aab2'],\n",
       " ['626a', 'a6jj', 'abbs', 'aaa2'],\n",
       " ['papa', 'ajbj', 'abpb', 'apj6'],\n",
       " ['ps2a', 'ab6p', 'abpb', 'a2p2'],\n",
       " ['6wsa', 'abap', 'abps', 'aps6'],\n",
       " ['pjja', 'awpp', 'abpw', 'as62'],\n",
       " ['b6ja', 'aw6j', 'abwb', 'awb6'],\n",
       " ['62sa', 'ajp', 'abws', 'aaa6'],\n",
       " ['b2pa', 'apjj', 'aj2s', 'as66'],\n",
       " ['2a6a', 'aspj', 'ajjb', 'apa2'],\n",
       " ['2waa', 'aa2p', 'ajjs', 'abj2'],\n",
       " ['pa6a', 'asbj', 'ajpw', 'aaa6'],\n",
       " ['b2ja', 'aaap', 'ajs', 'aj26'],\n",
       " ['ppsa', 'a2ap', 'ajsb', 'asj6'],\n",
       " ['b2pa', 'a2bj', 'ajsw', 'aaw6'],\n",
       " ['6pwa', 'aw2j', 'ajw', 'aba2'],\n",
       " ['w2aa', 'aw2p', 'ajwb', 'a2p2'],\n",
       " ['w2pa', 'awbp', 'ajww', 'aw62'],\n",
       " ['spaa', 'a2sj', 'ap2s', 'aa6'],\n",
       " ['266a', 'aajp', 'ap6w', 'aja2'],\n",
       " ['ajba', 'ap2p', 'ap6w', 'as6'],\n",
       " ['sbwa', 'abwj', 'apjb', 'aba2'],\n",
       " ['2w6a', 'appp', 'appb', 'ab66'],\n",
       " ['wjwa', 'ap6j', 'appb', 'asa2'],\n",
       " ['appa', 'awp', 'apsb', 'awp6'],\n",
       " ['sw6a', 'aa2p', 'apw', 'aa22'],\n",
       " ['2w6a', 'abap', 'as2b', 'ajj2'],\n",
       " ['p6a', 'a66j', 'as2b', 'aj66'],\n",
       " ['j2ja', 'ajj', 'as2b', 'ap26'],\n",
       " ['swaa', 'apaj', 'as2s', 'abs2'],\n",
       " ['sjaa', 'awsj', 'as2s', 'a6a2'],\n",
       " ['basa', 'aj6j', 'as2w', 'aws6'],\n",
       " ['jssa', 'as6p', 'as6w', 'ab66'],\n",
       " ['ssba', 'aaj', 'asab', 'a22'],\n",
       " ['26pa', 'awp', 'asaw', 'a6s6'],\n",
       " ['pja', 'a6wp', 'asb', 'a6a2'],\n",
       " ['26a', 'aapj', 'asbb', 'aba2'],\n",
       " ['wjwa', 'ajbj', 'asbb', 'asb6'],\n",
       " ['japa', 'aaj', 'asbs', 'awa2'],\n",
       " ['bbwa', 'ajwj', 'asjb', 'a2s6'],\n",
       " ['6waa', 'a2jp', 'asjs', 'aas6'],\n",
       " ['s2wa', 'a6ap', 'asjw', 'aaa2'],\n",
       " ['pbpa', 'aspj', 'aspb', 'aa2'],\n",
       " ['ppja', 'asbp', 'asps', 'asp6'],\n",
       " ['wpwa', 'aasp', 'aw2w', 'asw6'],\n",
       " ['6wpa', 'a6bp', 'aw6w', 'apw6'],\n",
       " ['paa', 'aw6p', 'awab', 'a626'],\n",
       " ['p2pa', 'a26p', 'awb', 'a6p6'],\n",
       " ['66pa', 'a22j', 'awbb', 'ap26'],\n",
       " ['awwa', 'aswj', 'awbw', 'a666'],\n",
       " ['ajsa', 'ap2p', 'awjb', 'abb2'],\n",
       " ['swa', 'ajpj', 'awjs', 'ap22'],\n",
       " ['ss2a', 'aa6j', 'awss', 'asw6'],\n",
       " ['bsaa', 'a2p', 'aww', 'ap22']]"
      ]
     },
     "execution_count": 35,
     "metadata": {},
     "output_type": "execute_result"
    }
   ],
   "source": [
    "team_trilinks = sorted(trilinks,key=lambda x: x[2])\n",
    "team_trilinks"
   ]
  },
  {
   "cell_type": "code",
   "execution_count": 36,
   "metadata": {},
   "outputs": [
    {
     "data": {
      "text/plain": [
       "{'awjs': ['ajpj'],\n",
       " 'aaww': ['assj'],\n",
       " 'a2ps': ['a6sj'],\n",
       " 'a6bw': ['a6pj'],\n",
       " 'a62b': ['awbj', 'aa2j', 'aasj'],\n",
       " 'awb': ['a26p'],\n",
       " 'awbb': ['a22j'],\n",
       " 'as2w': ['aj6j'],\n",
       " 'abwb': ['aw6j'],\n",
       " 'abps': ['abap'],\n",
       " 'a6ws': ['appp'],\n",
       " 'a6w': ['ap'],\n",
       " 'asaw': ['awp'],\n",
       " 'a26b': ['ajpp'],\n",
       " 'asb': ['a6wp'],\n",
       " 'aww': ['a2p'],\n",
       " 'apjb': ['abwj'],\n",
       " 'awab': ['aw6p'],\n",
       " 'a2ww': ['ajbj'],\n",
       " 'appb': ['appp', 'ap6j'],\n",
       " 'a22w': ['aap'],\n",
       " 'aa2b': ['ajp'],\n",
       " 'ajjs': ['aa2p'],\n",
       " 'a2s': ['a6wj'],\n",
       " 'abab': ['ap6p'],\n",
       " 'ap6w': ['aajp', 'ap2p'],\n",
       " 'aa2w': ['ajjp', 'abbp'],\n",
       " 'aaw': ['a6ap'],\n",
       " 'ajwb': ['aw2p'],\n",
       " 'a2sw': ['a26p'],\n",
       " 'awbw': ['aswj'],\n",
       " 'a2b': ['a2j', 'abpj'],\n",
       " 'ajsb': ['a2ap'],\n",
       " 'asjw': ['a6ap'],\n",
       " 'asab': ['aaj'],\n",
       " 'a2sb': ['apsp'],\n",
       " 'a6b': ['asbj'],\n",
       " 'abbs': ['a6jj'],\n",
       " 'aasb': ['asaj'],\n",
       " 'ajww': ['awbp'],\n",
       " 'apsb': ['awp'],\n",
       " 'a2bw': ['aj6p', 'aajj'],\n",
       " 'a6jw': ['awpp'],\n",
       " 'aa6b': ['a6bp'],\n",
       " 'abws': ['ajp'],\n",
       " 'asps': ['asbp'],\n",
       " 'a2bb': ['a6jj', 'abbp'],\n",
       " 'a6js': ['asaj'],\n",
       " 'aabw': ['abpp', 'aap', 'a2aj'],\n",
       " 'ajs': ['aaap'],\n",
       " 'asjb': ['ajwj'],\n",
       " 'ajjb': ['aspj'],\n",
       " 'abpb': ['ajbj', 'ab6p'],\n",
       " 'ap2s': ['a2sj'],\n",
       " 'ajpw': ['asbj'],\n",
       " 'as2b': ['abap', 'a66j', 'ajj'],\n",
       " 'ajsw': ['a2bj'],\n",
       " 'a6bs': ['asjj'],\n",
       " 'aspb': ['aspj'],\n",
       " 'apw': ['aa2p'],\n",
       " 'a6ps': ['a26j', 'ap2j'],\n",
       " 'aw6w': ['a6bp'],\n",
       " 'a2bs': ['apwp'],\n",
       " 'as2s': ['apaj', 'awsj'],\n",
       " 'aj2s': ['apjj'],\n",
       " 'awjb': ['ap2p'],\n",
       " 'a2js': ['ajbp'],\n",
       " 'a6jb': ['awsp'],\n",
       " 'as6w': ['as6p'],\n",
       " 'a2w': ['aabj'],\n",
       " 'awss': ['aa6j'],\n",
       " 'aajw': ['aw6p'],\n",
       " 'ab2w': ['asbp'],\n",
       " 'aw2w': ['aasp'],\n",
       " 'asbb': ['aapj', 'ajbj'],\n",
       " 'asjs': ['a2jp'],\n",
       " 'asbs': ['aaj'],\n",
       " 'ajw': ['aw2j'],\n",
       " 'a66b': ['a2pp'],\n",
       " 'a2jw': ['assp'],\n",
       " 'abpw': ['awpp'],\n",
       " 'a2ss': ['aawj', 'aajj'],\n",
       " 'aaas': ['aapj']}"
      ]
     },
     "execution_count": 36,
     "metadata": {},
     "output_type": "execute_result"
    }
   ],
   "source": [
    "team_sliced = {}\n",
    "for uni in set([p[2] for p in team_trilinks]):\n",
    "    local = []\n",
    "    for trilink in trilinks:\n",
    "        if trilink[2] == uni:\n",
    "            local.append(trilink[1])\n",
    "    team_sliced.update({uni: local})\n",
    "    \n",
    "team_sliced"
   ]
  },
  {
   "cell_type": "code",
   "execution_count": null,
   "metadata": {},
   "outputs": [],
   "source": []
  }
 ],
 "metadata": {
  "kernelspec": {
   "display_name": "Python 3",
   "language": "python",
   "name": "python3"
  },
  "language_info": {
   "codemirror_mode": {
    "name": "ipython",
    "version": 3
   },
   "file_extension": ".py",
   "mimetype": "text/x-python",
   "name": "python",
   "nbconvert_exporter": "python",
   "pygments_lexer": "ipython3",
   "version": "3.7.2"
  }
 },
 "nbformat": 4,
 "nbformat_minor": 2
}
