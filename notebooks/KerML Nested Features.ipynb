{
 "cells": [
  {
   "cell_type": "code",
   "execution_count": 1,
   "metadata": {},
   "outputs": [],
   "source": [
    "import copy\n",
    "import random"
   ]
  },
  {
   "cell_type": "markdown",
   "metadata": {},
   "source": [
    "# Key Library Features in KerML\n",
    "\n",
    "This is a notebook to provide examples of how to interpret models built from library elements from the Kernel parts of KerML, which underpin SysML. This is meant to help understand how to interpret more complicated models.\n",
    "\n",
    "If Greek characters, capital letters, and numbers are added, this allows for a universe of atoms with about 80 members. This probably plenty to work with giving how quickly combinatorial spaces expand."
   ]
  },
  {
   "cell_type": "markdown",
   "metadata": {},
   "source": [
    "## Section 1 - Important Features from the Library\n",
    "\n",
    "The most difficult parts of the interpretations to understand are those around the features within the library. This part of the notebook will focus on those."
   ]
  },
  {
   "cell_type": "markdown",
   "metadata": {},
   "source": [
    "### Section 1.1 - Universe and Classifiers\n",
    "\n",
    "To illustrate the Features, we need some classifiers in the model\n",
    "\n",
    "assoc L;  \n",
    "class BCD;  \n",
    "class FGH;"
   ]
  },
  {
   "cell_type": "code",
   "execution_count": 2,
   "metadata": {},
   "outputs": [],
   "source": [
    "classifier_min_interpretations = {\n",
    "    'L' : ['l', '\\u03BB', 'L', '\\u039B', 'k', '\\u039B', 'K'],\n",
    "    'BCD' : ['b', 'B', 'c', 'C', 'd', 'D', '\\u03B1','\\u03B2','\\u03B4'],\n",
    "    'FGH' : ['f', 'F', 'g', 'G', 'h', 'H', '\\u03C6','\\u03A6','\\u03B3', '\\u0393']\n",
    "}"
   ]
  },
  {
   "cell_type": "code",
   "execution_count": 3,
   "metadata": {},
   "outputs": [
    {
     "data": {
      "text/plain": [
       "{'L': ['l', 'λ', 'L', 'Λ', 'k', 'Λ', 'K'],\n",
       " 'BCD': ['b', 'B', 'c', 'C', 'd', 'D', 'α', 'β', 'δ'],\n",
       " 'FGH': ['f', 'F', 'g', 'G', 'h', 'H', 'φ', 'Φ', 'γ', 'Γ']}"
      ]
     },
     "execution_count": 3,
     "metadata": {},
     "output_type": "execute_result"
    }
   ],
   "source": [
    "classifier_min_interpretations"
   ]
  },
  {
   "cell_type": "markdown",
   "metadata": {},
   "source": [
    "### Section 1.2 - Binary Link Features\n",
    "\n",
    "BinaryLink_sourceParticipant feature  \n",
    "BinaryLink_targetParticipant feature\n",
    "\n",
    "The features have multiplicity of 1, meaning only one value per atom within the domain.\n",
    "\n",
    "assoc L {  \n",
    "&nbsp;&nbsp;part part1 : BCD  \n",
    "&nbsp;&nbsp;part part2 : FGH  \n",
    "}"
   ]
  },
  {
   "cell_type": "markdown",
   "metadata": {},
   "source": [
    "Randomly assign members of BCD to part1 and members of FGH to part2 for the links."
   ]
  },
  {
   "cell_type": "code",
   "execution_count": 7,
   "metadata": {},
   "outputs": [],
   "source": [
    "parts1 = []\n",
    "parts2 = []\n",
    "\n",
    "for l in classifier_min_interpretations['L']:\n",
    "    pos_m = random.randint(0, len(classifier_min_interpretations['BCD']) - 1)\n",
    "    pos_n = random.randint(0, len(classifier_min_interpretations['FGH']) - 1)\n",
    "    \n",
    "    parts1.append(l + classifier_min_interpretations['BCD'][pos_m])\n",
    "    parts2.append(l + classifier_min_interpretations['FGH'][pos_n])"
   ]
  },
  {
   "cell_type": "code",
   "execution_count": 8,
   "metadata": {},
   "outputs": [
    {
     "data": {
      "text/plain": [
       "['lb', 'λα', 'LC', 'Λδ', 'kα', 'Λb', 'Kβ']"
      ]
     },
     "execution_count": 8,
     "metadata": {},
     "output_type": "execute_result"
    }
   ],
   "source": [
    "parts1"
   ]
  },
  {
   "cell_type": "code",
   "execution_count": 9,
   "metadata": {},
   "outputs": [
    {
     "data": {
      "text/plain": [
       "['lF', 'λG', 'Lφ', 'ΛG', 'kF', 'Λγ', 'Kg']"
      ]
     },
     "execution_count": 9,
     "metadata": {},
     "output_type": "execute_result"
    }
   ],
   "source": [
    "parts2"
   ]
  },
  {
   "cell_type": "markdown",
   "metadata": {},
   "source": [
    "#### Implied End Features\n",
    "\n",
    "Push through the implied end values according to Kernel semantics. A::e2(e1) is all values for e2 for which A has a value of e1."
   ]
  },
  {
   "cell_type": "code",
   "execution_count": 19,
   "metadata": {},
   "outputs": [],
   "source": [
    "part1_navs = []\n",
    "part2_navs = []\n",
    "\n",
    "part1_full_navs = []\n",
    "part2_full_navs = []\n",
    "\n",
    "for indx, part1 in enumerate(parts1):\n",
    "    part1_navs.append(part1[1] + parts2[indx][1])\n",
    "    part2_navs.append(parts2[indx][1] + part1[1])\n",
    "    \n",
    "    part2_full_navs.append(part1[0] + part1[1] + parts2[indx][1])\n",
    "    part1_full_navs.append(part1[0] + parts2[indx][1] + part1[1])"
   ]
  },
  {
   "cell_type": "code",
   "execution_count": 20,
   "metadata": {},
   "outputs": [
    {
     "data": {
      "text/plain": [
       "['bF', 'αG', 'Cφ', 'δG', 'αF', 'bγ', 'βg']"
      ]
     },
     "execution_count": 20,
     "metadata": {},
     "output_type": "execute_result"
    }
   ],
   "source": [
    "part1_navs"
   ]
  },
  {
   "cell_type": "code",
   "execution_count": 21,
   "metadata": {},
   "outputs": [
    {
     "data": {
      "text/plain": [
       "['Fb', 'Gα', 'φC', 'Gδ', 'Fα', 'γb', 'gβ']"
      ]
     },
     "execution_count": 21,
     "metadata": {},
     "output_type": "execute_result"
    }
   ],
   "source": [
    "part2_navs"
   ]
  },
  {
   "cell_type": "code",
   "execution_count": 22,
   "metadata": {},
   "outputs": [
    {
     "data": {
      "text/plain": [
       "['lFb', 'λGα', 'LφC', 'ΛGδ', 'kFα', 'Λγb', 'Kgβ']"
      ]
     },
     "execution_count": 22,
     "metadata": {},
     "output_type": "execute_result"
    }
   ],
   "source": [
    "part1_full_navs"
   ]
  },
  {
   "cell_type": "code",
   "execution_count": 23,
   "metadata": {},
   "outputs": [
    {
     "data": {
      "text/plain": [
       "['lbF', 'λαG', 'LCφ', 'ΛδG', 'kαF', 'Λbγ', 'Kβg']"
      ]
     },
     "execution_count": 23,
     "metadata": {},
     "output_type": "execute_result"
    }
   ],
   "source": [
    "part2_full_navs"
   ]
  },
  {
   "cell_type": "code",
   "execution_count": null,
   "metadata": {},
   "outputs": [],
   "source": []
  }
 ],
 "metadata": {
  "kernelspec": {
   "display_name": "Python 3",
   "language": "python",
   "name": "python3"
  },
  "language_info": {
   "codemirror_mode": {
    "name": "ipython",
    "version": 3
   },
   "file_extension": ".py",
   "mimetype": "text/x-python",
   "name": "python",
   "nbconvert_exporter": "python",
   "pygments_lexer": "ipython3",
   "version": "3.7.2"
  }
 },
 "nbformat": 4,
 "nbformat_minor": 2
}
